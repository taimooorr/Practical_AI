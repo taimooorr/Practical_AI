{
 "cells": [
  {
   "cell_type": "code",
   "execution_count": 20,
   "metadata": {},
   "outputs": [],
   "source": [
    "import numpy as np"
   ]
  },
  {
   "cell_type": "code",
   "execution_count": 21,
   "metadata": {},
   "outputs": [
    {
     "name": "stdout",
     "output_type": "stream",
     "text": [
      "[ 1  2  3  4  5  6  7  8  9 10]\n",
      "[1, 33, 44, 665]\n",
      "object type    <class 'numpy.ndarray'>\n"
     ]
    }
   ],
   "source": [
    "a = np.array([1,2,3,4,5,6,7,8,9,10]);print(a)\n",
    "al = [1,33,44,665];print(al)\n",
    "print(f'{\"object type\":<15}{type(a)}')"
   ]
  },
  {
   "cell_type": "code",
   "execution_count": 22,
   "metadata": {},
   "outputs": [
    {
     "name": "stdout",
     "output_type": "stream",
     "text": [
      "(0,) 1 0\n"
     ]
    }
   ],
   "source": [
    "al = np.array([]);\n",
    "print(al.shape,al.ndim,al.size)\n"
   ]
  },
  {
   "cell_type": "code",
   "execution_count": 23,
   "metadata": {},
   "outputs": [
    {
     "name": "stdout",
     "output_type": "stream",
     "text": [
      "[[0. 0. 0.]\n",
      " [0. 0. 0.]\n",
      " [0. 0. 0.]]\n",
      "[[1. 1. 1. 1.]\n",
      " [1. 1. 1. 1.]]\n",
      "[[7 7 7 7 7]\n",
      " [7 7 7 7 7]\n",
      " [7 7 7 7 7]]\n",
      "Identity Matrix\n",
      "[[1. 0. 0.]\n",
      " [0. 1. 0.]\n",
      " [0. 0. 1.]]\n"
     ]
    }
   ],
   "source": [
    "# filling arrays with spacified values\n",
    "a_zeros = np.zeros((3,3));print(a_zeros)\n",
    "a_ones = np.ones((2,4));print(a_ones)\n",
    "a_full = np.full((3,5),7);print(a_full)\n",
    "print(\"Identity Matrix\")\n",
    "a_eye = np.eye(3);print(a_eye) # identity matrix"
   ]
  },
  {
   "cell_type": "code",
   "execution_count": 24,
   "metadata": {},
   "outputs": [
    {
     "name": "stdout",
     "output_type": "stream",
     "text": [
      "[[[0.39198833 0.2957196  0.64228652 0.46626636]\n",
      "  [0.55591378 0.16694196 0.82213839 0.61905614]\n",
      "  [0.53617992 0.48472725 0.13666729 0.32494552]]\n",
      "\n",
      " [[0.75130312 0.27503385 0.29945866 0.12799674]\n",
      "  [0.78762158 0.47948564 0.42913413 0.64512623]\n",
      "  [0.05805303 0.26672882 0.34229394 0.07716849]]]\n",
      "float64\n",
      "2\n",
      "pancake\n"
     ]
    }
   ],
   "source": [
    "#Filling array with random floats : in the half open interval [0.0, 1.0)\n",
    "a_ran = np.random.random((2,3,4))\n",
    "print(f'{a_ran}\\n{a_ran.dtype}')\n",
    "print(np.random.choice(range(0,7)))\n",
    "print(np.random.choice(['hamburger','pizza','sandwich','pancake']))"
   ]
  },
  {
   "cell_type": "code",
   "execution_count": 25,
   "metadata": {},
   "outputs": [
    {
     "name": "stdout",
     "output_type": "stream",
     "text": [
      "[ 0  1  2  3  4  5  6  7  8  9 10 11 12 13 14 15 16 17 18 19 20]\n",
      "<class 'numpy.ndarray'>\n",
      "[[[ 0  1  2  3  4  5  6]\n",
      "  [ 7  8  9 10 11 12 13]\n",
      "  [14 15 16 17 18 19 20]]]\n"
     ]
    }
   ],
   "source": [
    "#Making an array with arrange  same interval\n",
    "g = np.arange(21)\n",
    "print(f'{g}\\n{type(g)}')\n",
    "print(g.reshape(1,3,7))"
   ]
  },
  {
   "cell_type": "code",
   "execution_count": 26,
   "metadata": {},
   "outputs": [
    {
     "name": "stdout",
     "output_type": "stream",
     "text": [
      "[ 5.   7.5 10.  12.5 15.  17.5 20. ]\n",
      "[[ 1  2  3  4  5  6  7  8  9 10]\n",
      " [11 12 13 14 15 16 17 18 19 20]]\n"
     ]
    }
   ],
   "source": [
    "h = np.arange(5,21,2.5)\n",
    "print(h)\n",
    "print(np.arange(1,21).reshape(2,10))"
   ]
  },
  {
   "cell_type": "code",
   "execution_count": 27,
   "metadata": {},
   "outputs": [
    {
     "name": "stdout",
     "output_type": "stream",
     "text": [
      "[[ 1  2  3  4  5  6  7  8  9 10]\n",
      " [11 12 13 14 15 16 17 18 19 20]]\n"
     ]
    }
   ],
   "source": [
    "print(np.reshape(np.arange(1,21),(2,10))) #nested function"
   ]
  },
  {
   "cell_type": "code",
   "execution_count": 28,
   "metadata": {},
   "outputs": [
    {
     "name": "stdout",
     "output_type": "stream",
     "text": [
      "[0.   0.25 0.5  0.75 1.  ]\n",
      "(5,)\n",
      "5\n"
     ]
    }
   ],
   "source": [
    "a_ss = np.linspace(0,1,5)\n",
    "print(f'{a_ss}\\n{a_ss.shape}\\n{a_ss.size}' )"
   ]
  },
  {
   "cell_type": "markdown",
   "metadata": {},
   "source": [
    "Arrays Operations and BroadCasting"
   ]
  },
  {
   "cell_type": "code",
   "execution_count": 29,
   "metadata": {},
   "outputs": [
    {
     "name": "stdout",
     "output_type": "stream",
     "text": [
      "(3, 2) (3, 2)\n",
      "[[ 4  6]\n",
      " [ 8 10]\n",
      " [12 14]]\n",
      "[[ 2  4]\n",
      " [ 6  8]\n",
      " [10 12]]\n"
     ]
    }
   ],
   "source": [
    "xa = np.array([[1,2],[3,4],[5,6]])\n",
    "xb = np.array([[3,4],[5,6],[7,8]])\n",
    "print(xa.shape,xb.shape)\n",
    "print(f'{xa+xb}\\n{xa*2}')"
   ]
  },
  {
   "cell_type": "code",
   "execution_count": 30,
   "metadata": {},
   "outputs": [
    {
     "name": "stdout",
     "output_type": "stream",
     "text": [
      "[[ 4  6]\n",
      " [ 8 10]\n",
      " [12 14]]\n",
      "[[ 3  8]\n",
      " [15 24]\n",
      " [35 48]]\n",
      "[[-2 -2]\n",
      " [-2 -2]\n",
      " [-2 -2]]\n",
      "[[1.         1.41421356]\n",
      " [1.73205081 2.        ]\n",
      " [2.23606798 2.44948974]]\n"
     ]
    }
   ],
   "source": [
    "print(np.add(xa,xb))\n",
    "print(np.multiply(xa,xb))\n",
    "print(np.subtract(xa,xb))\n",
    "print(np.sqrt(xa))"
   ]
  },
  {
   "cell_type": "code",
   "execution_count": 31,
   "metadata": {},
   "outputs": [
    {
     "name": "stdout",
     "output_type": "stream",
     "text": [
      "[[1. 1. 1.]\n",
      " [1. 1. 1.]] (2, 3) 2\n",
      "[[ 3.  3.  3.]\n",
      " [ 7.  7.  7.]\n",
      " [11. 11. 11.]]\n",
      "[[ 3.  3.  3.]\n",
      " [ 7.  7.  7.]\n",
      " [11. 11. 11.]]\n"
     ]
    }
   ],
   "source": [
    "#inner product matrix\n",
    "xc = np.ones((2,3))\n",
    "print(xc,xc.shape,xc.ndim)\n",
    "print(xa.dot(xc))\n",
    "print(np.dot(xa,xc))\n"
   ]
  },
  {
   "cell_type": "code",
   "execution_count": 32,
   "metadata": {},
   "outputs": [
    {
     "name": "stdout",
     "output_type": "stream",
     "text": [
      "(array([[1, 2],\n",
      "       [1, 2]]),)\n",
      "[[[ 3  6]]\n",
      "\n",
      " [[ 7 14]]\n",
      "\n",
      " [[11 22]]]\n"
     ]
    }
   ],
   "source": [
    "# inner Product of matrix\n",
    "xd = np.array([[1,2],[1,2]]),\n",
    "print(xd)\n",
    "print(np.dot(xa,xd))"
   ]
  },
  {
   "cell_type": "code",
   "execution_count": 33,
   "metadata": {},
   "outputs": [
    {
     "name": "stdout",
     "output_type": "stream",
     "text": [
      "[[1 2]\n",
      " [3 4]\n",
      " [5 6]]\n",
      "----\n",
      "[[1 3 5]\n",
      " [2 4 6]]\n"
     ]
    }
   ],
   "source": [
    "# Transpose of matrix\n",
    "print(xa)\n",
    "print(\"----\")\n",
    "print(xa.T)"
   ]
  },
  {
   "cell_type": "code",
   "execution_count": 34,
   "metadata": {},
   "outputs": [
    {
     "name": "stdout",
     "output_type": "stream",
     "text": [
      "[[4 5]\n",
      " [6 7]\n",
      " [8 9]]\n",
      "[[1 2]\n",
      " [3 4]\n",
      " [5 6]]\n",
      "[[4 5]\n",
      " [6 7]\n",
      " [8 9]]\n"
     ]
    }
   ],
   "source": [
    "# Broadcasting : Arithmetic operations between arrays of different shapes arrays\n",
    "# the smaller array is broadcast across the larger array so that they have compatible shapes\n",
    "print(xa+3)\n",
    "print(xa)\n",
    "xa += 3\n",
    "print(xa)"
   ]
  },
  {
   "cell_type": "markdown",
   "metadata": {},
   "source": [
    "Slicing and flattening arrays"
   ]
  },
  {
   "cell_type": "code",
   "execution_count": 36,
   "metadata": {},
   "outputs": [
    {
     "name": "stdout",
     "output_type": "stream",
     "text": [
      "[[ 0  1  2  3  4  5  6]\n",
      " [ 7  8  9 10 11 12 13]\n",
      " [14 15 16 17 18 19 20]] (3, 7)\n"
     ]
    }
   ],
   "source": [
    "karray = np.arange(21).reshape(3,7);\n",
    "print(karray,karray.shape)"
   ]
  },
  {
   "cell_type": "code",
   "execution_count": 38,
   "metadata": {},
   "outputs": [
    {
     "name": "stdout",
     "output_type": "stream",
     "text": [
      "[0 1 2 3 4 5 6]\n",
      "[[ 0  1  2  3  4  5  6]\n",
      " [ 7  8  9 10 11 12 13]]\n",
      "[0 1 2 3]\n"
     ]
    }
   ],
   "source": [
    "print(karray[0])\n",
    "print(karray[:2])\n",
    "print(karray[0,:4])"
   ]
  },
  {
   "cell_type": "code",
   "execution_count": 43,
   "metadata": {},
   "outputs": [
    {
     "name": "stdout",
     "output_type": "stream",
     "text": [
      "[[0 1 2 3 4 5 6]]\n",
      "[[ 0  2]\n",
      " [ 7  9]\n",
      " [14 16]]\n"
     ]
    }
   ],
   "source": [
    "#double indexing\n",
    "print(karray[[0,]])\n",
    "print(karray[:,[0,2]])"
   ]
  },
  {
   "cell_type": "code",
   "execution_count": 46,
   "metadata": {},
   "outputs": [
    {
     "name": "stdout",
     "output_type": "stream",
     "text": [
      "[ 0  1  2  3  4  5  6  7  8  9 10 11 12 13 14 15 16 17 18 19 20]\n"
     ]
    }
   ],
   "source": [
    "#flattening an array\n",
    "fkarray = karray.flatten()\n",
    "print(fkarray)\n",
    "##both work same\n",
    "fkarray2 = karray.reshape(21)"
   ]
  },
  {
   "cell_type": "code",
   "execution_count": 47,
   "metadata": {},
   "outputs": [
    {
     "name": "stdout",
     "output_type": "stream",
     "text": [
      "[[ 2  3  4  5  6  7  8]\n",
      " [ 9 10 11 12 13 14 15]\n",
      " [16 17 18 19 20 21 22]]\n"
     ]
    }
   ],
   "source": [
    "# summary statistics\n",
    "karray = np.arange(2,23).reshape(3,7)\n",
    "print(karray)\n"
   ]
  },
  {
   "cell_type": "code",
   "execution_count": 48,
   "metadata": {},
   "outputs": [
    {
     "name": "stdout",
     "output_type": "stream",
     "text": [
      "252 2 22 12.0 6.0553007081949835 36.666666666666664\n"
     ]
    }
   ],
   "source": [
    "print(karray.sum(),karray.min(),karray.max(),karray.mean(),karray.std(),karray.var())"
   ]
  },
  {
   "cell_type": "code",
   "execution_count": 49,
   "metadata": {},
   "outputs": [
    {
     "name": "stdout",
     "output_type": "stream",
     "text": [
      "[ 9. 10. 11. 12. 13. 14. 15.] [ 5. 12. 19.]\n"
     ]
    }
   ],
   "source": [
    "print(karray.mean(axis=0),karray.mean(axis=1))"
   ]
  },
  {
   "cell_type": "code",
   "execution_count": 50,
   "metadata": {},
   "outputs": [
    {
     "name": "stdout",
     "output_type": "stream",
     "text": [
      "20 0\n",
      "[2 2 2 2 2 2 2] [0 0 0]\n"
     ]
    }
   ],
   "source": [
    "print(karray.argmax(),karray.argmin())\n",
    "print(karray.argmax(axis=0),karray.argmin(axis=1))"
   ]
  },
  {
   "cell_type": "code",
   "execution_count": 54,
   "metadata": {},
   "outputs": [
    {
     "name": "stdout",
     "output_type": "stream",
     "text": [
      "6\n"
     ]
    }
   ],
   "source": [
    "A = np.array([[1, 2, 3], [4, 5, 6]])\n",
    "print(A.size)"
   ]
  }
 ],
 "metadata": {
  "kernelspec": {
   "display_name": "Python 3.9.13 ('MachineLearningEnv')",
   "language": "python",
   "name": "python3"
  },
  "language_info": {
   "codemirror_mode": {
    "name": "ipython",
    "version": 3
   },
   "file_extension": ".py",
   "mimetype": "text/x-python",
   "name": "python",
   "nbconvert_exporter": "python",
   "pygments_lexer": "ipython3",
   "version": "3.9.13"
  },
  "orig_nbformat": 4,
  "vscode": {
   "interpreter": {
    "hash": "2e7c6a41ed51d1f739bc9e3ca8b38e960bf9f7fc3caae0b9651666b98b7b93a6"
   }
  }
 },
 "nbformat": 4,
 "nbformat_minor": 2
}
