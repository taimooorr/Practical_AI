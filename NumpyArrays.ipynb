{
 "cells": [
  {
   "cell_type": "code",
   "execution_count": 1,
   "metadata": {},
   "outputs": [],
   "source": [
    "import numpy as np"
   ]
  },
  {
   "cell_type": "code",
   "execution_count": 12,
   "metadata": {},
   "outputs": [
    {
     "name": "stdout",
     "output_type": "stream",
     "text": [
      "[ 1  2  3  4  5  6  7  8  9 10]\n",
      "[1, 33, 44, 665]\n",
      "object type    <class 'numpy.ndarray'>\n"
     ]
    }
   ],
   "source": [
    "a = np.array([1,2,3,4,5,6,7,8,9,10]);print(a)\n",
    "al = [1,33,44,665];print(al)\n",
    "print(f'{\"object type\":<15}{type(a)}')"
   ]
  },
  {
   "cell_type": "code",
   "execution_count": 8,
   "metadata": {},
   "outputs": [
    {
     "name": "stdout",
     "output_type": "stream",
     "text": [
      "(0,) 1 0\n"
     ]
    }
   ],
   "source": [
    "al = np.array([]);\n",
    "print(al.shape,al.ndim,al.size)\n"
   ]
  },
  {
   "cell_type": "code",
   "execution_count": 10,
   "metadata": {},
   "outputs": [
    {
     "name": "stdout",
     "output_type": "stream",
     "text": [
      "[[0. 0. 0.]\n",
      " [0. 0. 0.]\n",
      " [0. 0. 0.]]\n",
      "[[1. 1. 1. 1.]\n",
      " [1. 1. 1. 1.]]\n",
      "[[7 7 7 7 7]\n",
      " [7 7 7 7 7]\n",
      " [7 7 7 7 7]]\n",
      "Identity Matrix\n",
      "[[1. 0. 0.]\n",
      " [0. 1. 0.]\n",
      " [0. 0. 1.]]\n"
     ]
    }
   ],
   "source": [
    "# filling arrays with spacified values\n",
    "a_zeros = np.zeros((3,3));print(a_zeros)\n",
    "a_ones = np.ones((2,4));print(a_ones)\n",
    "a_full = np.full((3,5),7);print(a_full)\n",
    "print(\"Identity Matrix\")\n",
    "a_eye = np.eye(3);print(a_eye) # identity matrix"
   ]
  },
  {
   "cell_type": "code",
   "execution_count": 19,
   "metadata": {},
   "outputs": [
    {
     "name": "stdout",
     "output_type": "stream",
     "text": [
      "[[[0.81201204 0.89291137 0.30745053 0.1112661 ]\n",
      "  [0.38478877 0.63381883 0.78442478 0.96980618]\n",
      "  [0.78970257 0.52309935 0.97526031 0.0117612 ]]\n",
      "\n",
      " [[0.40374184 0.09143901 0.3141708  0.58036363]\n",
      "  [0.44529826 0.34174982 0.40854627 0.8300216 ]\n",
      "  [0.01975539 0.42969131 0.20387417 0.16461895]]]\n",
      "float64\n",
      "1\n",
      "sandwich\n"
     ]
    }
   ],
   "source": [
    "#Filling array with random floats : in the half open interval [0.0, 1.0)\n",
    "a_ran = np.random.random((2,3,4))\n",
    "print(f'{a_ran}\\n{a_ran.dtype}')\n",
    "print(np.random.choice(range(0,7)))\n",
    "print(np.random.choice(['hamburger','pizza','sandwich','pancake']))"
   ]
  },
  {
   "cell_type": "code",
   "execution_count": 29,
   "metadata": {},
   "outputs": [
    {
     "name": "stdout",
     "output_type": "stream",
     "text": [
      "[ 0  1  2  3  4  5  6  7  8  9 10 11 12 13 14 15 16 17 18 19 20]\n",
      "<class 'numpy.ndarray'>\n",
      "[[[ 0  1  2  3  4  5  6]\n",
      "  [ 7  8  9 10 11 12 13]\n",
      "  [14 15 16 17 18 19 20]]]\n"
     ]
    }
   ],
   "source": [
    "#Making an array with arrange  same interval\n",
    "g = np.arange(21)\n",
    "print(f'{g}\\n{type(g)}')\n",
    "print(g.reshape(1,3,7))"
   ]
  },
  {
   "cell_type": "code",
   "execution_count": 31,
   "metadata": {},
   "outputs": [
    {
     "name": "stdout",
     "output_type": "stream",
     "text": [
      "[ 5.   7.5 10.  12.5 15.  17.5 20. ]\n",
      "[[ 1  2  3  4  5  6  7  8  9 10]\n",
      " [11 12 13 14 15 16 17 18 19 20]]\n"
     ]
    }
   ],
   "source": [
    "h = np.arange(5,21,2.5)\n",
    "print(h)\n",
    "print(np.arange(1,21).reshape(2,10))"
   ]
  },
  {
   "cell_type": "code",
   "execution_count": 32,
   "metadata": {},
   "outputs": [
    {
     "name": "stdout",
     "output_type": "stream",
     "text": [
      "[[ 1  2  3  4  5  6  7  8  9 10]\n",
      " [11 12 13 14 15 16 17 18 19 20]]\n"
     ]
    }
   ],
   "source": [
    "print(np.reshape(np.arange(1,21),(2,10))) #nested function"
   ]
  },
  {
   "cell_type": "code",
   "execution_count": 33,
   "metadata": {},
   "outputs": [
    {
     "name": "stdout",
     "output_type": "stream",
     "text": [
      "[0.   0.25 0.5  0.75 1.  ]\n",
      "(5,)\n",
      "5\n"
     ]
    }
   ],
   "source": [
    "a_ss = np.linspace(0,1,5)\n",
    "print(f'{a_ss}\\n{a_ss.shape}\\n{a_ss.size}' )"
   ]
  },
  {
   "cell_type": "markdown",
   "metadata": {},
   "source": [
    "Arrays Operations and BroadCasting"
   ]
  },
  {
   "cell_type": "code",
   "execution_count": 3,
   "metadata": {},
   "outputs": [
    {
     "name": "stdout",
     "output_type": "stream",
     "text": [
      "(3, 2) (3, 2)\n",
      "[[ 4  6]\n",
      " [ 8 10]\n",
      " [12 14]]\n",
      "[[ 2  4]\n",
      " [ 6  8]\n",
      " [10 12]]\n"
     ]
    }
   ],
   "source": [
    "xa = np.array([[1,2],[3,4],[5,6]])\n",
    "xb = np.array([[3,4],[5,6],[7,8]])\n",
    "print(xa.shape,xb.shape)\n",
    "print(f'{xa+xb}\\n{xa*2}')"
   ]
  },
  {
   "cell_type": "code",
   "execution_count": 35,
   "metadata": {},
   "outputs": [
    {
     "name": "stdout",
     "output_type": "stream",
     "text": [
      "[[ 4  6]\n",
      " [ 8 10]\n",
      " [12 14]]\n",
      "[[ 3  8]\n",
      " [15 24]\n",
      " [35 48]]\n",
      "[[-2 -2]\n",
      " [-2 -2]\n",
      " [-2 -2]]\n",
      "[[1.         1.41421356]\n",
      " [1.73205081 2.        ]\n",
      " [2.23606798 2.44948974]]\n"
     ]
    }
   ],
   "source": [
    "print(np.add(xa,xb))\n",
    "print(np.multiply(xa,xb))\n",
    "print(np.subtract(xa,xb))\n",
    "print(np.sqrt(xa))"
   ]
  },
  {
   "cell_type": "code",
   "execution_count": 4,
   "metadata": {},
   "outputs": [
    {
     "name": "stdout",
     "output_type": "stream",
     "text": [
      "[[1. 1. 1.]\n",
      " [1. 1. 1.]] (2, 3) 2\n",
      "[[ 3.  3.  3.]\n",
      " [ 7.  7.  7.]\n",
      " [11. 11. 11.]]\n",
      "[[ 3.  3.  3.]\n",
      " [ 7.  7.  7.]\n",
      " [11. 11. 11.]]\n"
     ]
    }
   ],
   "source": [
    "#inner product matrix\n",
    "xc = np.ones((2,3))\n",
    "print(xc,xc.shape,xc.ndim)\n",
    "print(xa.dot(xc))\n",
    "print(np.dot(xa,xc))\n"
   ]
  },
  {
   "cell_type": "code",
   "execution_count": 7,
   "metadata": {},
   "outputs": [
    {
     "name": "stdout",
     "output_type": "stream",
     "text": [
      "(array([[1, 2],\n",
      "       [1, 2]]),)\n",
      "[[[ 3  6]]\n",
      "\n",
      " [[ 7 14]]\n",
      "\n",
      " [[11 22]]]\n"
     ]
    }
   ],
   "source": [
    "# inner Product of matrix\n",
    "xd = np.array([[1,2],[1,2]]),\n",
    "print(xd)\n",
    "print(np.dot(xa,xd))"
   ]
  },
  {
   "cell_type": "code",
   "execution_count": 9,
   "metadata": {},
   "outputs": [
    {
     "name": "stdout",
     "output_type": "stream",
     "text": [
      "[[1 2]\n",
      " [3 4]\n",
      " [5 6]]\n",
      "----\n",
      "[[1 3 5]\n",
      " [2 4 6]]\n"
     ]
    }
   ],
   "source": [
    "# Transpose of matrix\n",
    "print(xa)\n",
    "print(\"----\")\n",
    "print(xa.T)"
   ]
  },
  {
   "cell_type": "code",
   "execution_count": null,
   "metadata": {},
   "outputs": [],
   "source": []
  }
 ],
 "metadata": {
  "kernelspec": {
   "display_name": "Python 3.9.13 ('MachineLearningEnv')",
   "language": "python",
   "name": "python3"
  },
  "language_info": {
   "codemirror_mode": {
    "name": "ipython",
    "version": 3
   },
   "file_extension": ".py",
   "mimetype": "text/x-python",
   "name": "python",
   "nbconvert_exporter": "python",
   "pygments_lexer": "ipython3",
   "version": "3.9.13"
  },
  "orig_nbformat": 4,
  "vscode": {
   "interpreter": {
    "hash": "2e7c6a41ed51d1f739bc9e3ca8b38e960bf9f7fc3caae0b9651666b98b7b93a6"
   }
  }
 },
 "nbformat": 4,
 "nbformat_minor": 2
}
